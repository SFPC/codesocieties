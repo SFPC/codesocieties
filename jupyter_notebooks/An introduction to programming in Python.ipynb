{
 "cells": [
  {
   "cell_type": "markdown",
   "metadata": {},
   "source": [
    "# Let's talk about Jupyter Notebook\n",
    "\n",
    "This is what is called a Markdown cell. You can change the type of cell from Markdown to Code and back in Cell > Cell Type. Markdown cells allow us to narrate our code with more structure than typical comments. For example, we can \n",
    "\n",
    "\n",
    "1. *emphasize* certain words\n",
    "1. have bulletted lists\n",
    "2. include images\n",
    "\n",
    "And much more. See the reference for markdown here.\n",
    "\n"
   ]
  },
  {
   "cell_type": "markdown",
   "metadata": {},
   "source": [
    "## Let's talk about shortcuts.\n",
    "\n",
    "I will be primarily using the Ctrl+Enter shortcut, which is the shortcut for 'Run current cell'. The other one you might like to use is Shift+Enter, which 'Run current cell and select cell below'"
   ]
  },
  {
   "cell_type": "code",
   "execution_count": 1,
   "metadata": {},
   "outputs": [],
   "source": [
    "# Now this is our first code cell.\n",
    "# Lines that are preceeded by '#' are considered comments, or 'code that is not evaluated by the interpreter'"
   ]
  },
  {
   "cell_type": "code",
   "execution_count": 5,
   "metadata": {},
   "outputs": [
    {
     "data": {
      "text/plain": [
       "11"
      ]
     },
     "execution_count": 5,
     "metadata": {},
     "output_type": "execute_result"
    }
   ],
   "source": [
    "# Python is an interpreted language\n",
    "# Code is executed directly by the language the code is written in, as opposed to translated into some\n",
    "# kind of machine code\n",
    "\n",
    "5\n",
    "\n",
    "# the following line is outputs hello sfpc. But its not merely repeating 'hello sfpc', it's actually evaluating\n",
    "# it as an expression.\n",
    "\"hello sfpc\"\n",
    "\n",
    "\"hello sfpc\" + \" my name is ying\"\n",
    "\n",
    "6 + 5\n",
    "\n",
    "# as we can see later comments are helpful\n",
    "\n"
   ]
  },
  {
   "cell_type": "code",
   "execution_count": 6,
   "metadata": {},
   "outputs": [
    {
     "ename": "TypeError",
     "evalue": "unsupported operand type(s) for +: 'int' and 'str'",
     "output_type": "error",
     "traceback": [
      "\u001b[0;31m---------------------------------------------------------------------------\u001b[0m",
      "\u001b[0;31mTypeError\u001b[0m                                 Traceback (most recent call last)",
      "\u001b[0;32m<ipython-input-6-7981db5aeb5c>\u001b[0m in \u001b[0;36m<module>\u001b[0;34m()\u001b[0m\n\u001b[1;32m      1\u001b[0m \u001b[0;31m# what happens when we have mismatched types?\u001b[0m\u001b[0;34m\u001b[0m\u001b[0;34m\u001b[0m\u001b[0m\n\u001b[0;32m----> 2\u001b[0;31m \u001b[0;36m5\u001b[0m \u001b[0;34m+\u001b[0m \u001b[0;34m\"sfpc\"\u001b[0m\u001b[0;34m\u001b[0m\u001b[0m\n\u001b[0m",
      "\u001b[0;31mTypeError\u001b[0m: unsupported operand type(s) for +: 'int' and 'str'"
     ]
    }
   ],
   "source": [
    "# what happens when we have mismatched types?\n",
    "5 + \"sfpc\""
   ]
  },
  {
   "cell_type": "markdown",
   "metadata": {},
   "source": [
    "# Let's talk about Types"
   ]
  },
  {
   "cell_type": "code",
   "execution_count": 7,
   "metadata": {},
   "outputs": [],
   "source": [
    "# There are a couple of built in types in python\n",
    "\n",
    "0\n",
    "\"hello\"\n",
    "[]\n",
    "{}\n",
    "None\n"
   ]
  },
  {
   "cell_type": "markdown",
   "metadata": {},
   "source": [
    "# Let's talk about variable assignments"
   ]
  },
  {
   "cell_type": "code",
   "execution_count": 20,
   "metadata": {},
   "outputs": [
    {
     "data": {
      "text/plain": [
       "152.5"
      ]
     },
     "execution_count": 20,
     "metadata": {},
     "output_type": "execute_result"
    }
   ],
   "source": [
    "# number of deer in different counties\n",
    "sundown = 435\n",
    "kaaterskill = 32\n",
    "slide = 89\n",
    "indian_head = 54\n",
    "ashokan = 30\n",
    "\n",
    "total_deer_in_catskills = sundown + kaaterskill + slide + indian_head\n",
    "\n",
    "total_deer_in_catskills / 4\n",
    "\n",
    "\n"
   ]
  },
  {
   "cell_type": "markdown",
   "metadata": {},
   "source": [
    "# Let's talk about functions"
   ]
  },
  {
   "cell_type": "code",
   "execution_count": 28,
   "metadata": {},
   "outputs": [
    {
     "data": {
      "text/plain": [
       "'Hello John '"
      ]
     },
     "execution_count": 28,
     "metadata": {},
     "output_type": "execute_result"
    }
   ],
   "source": [
    "# functions are ways to give names to routines\n",
    "\n",
    "name = \"ying\"\n",
    "\n",
    "def sayhello(name):\n",
    "    return \"hello \" + name + \" \"\n",
    "\n",
    "def sayofthe(subject):\n",
    "    return \"of the \" + subject + \" \"\n",
    "\n",
    "sayhello(\"name\") + sayofthe(\"mountains\") + sayofthe(\"Far North\") + sayofthe(\"great seas\")\n",
    "\n",
    "# if you see a 'def', that is a function declaration\n",
    "# there are other ways functions can be declared, don't worry about that for now.\n",
    "\n",
    "\n",
    "#why do we want to use functions? Functions encapsulate code that other people have written, and tested\n",
    "\n",
    "sayhello(\"john\").upper()\n",
    "sayhello(\"john\").capitalize()\n",
    "sayhello(\"john\").title()\n",
    "\n"
   ]
  },
  {
   "cell_type": "code",
   "execution_count": 76,
   "metadata": {},
   "outputs": [
    {
     "data": {
      "text/plain": [
       "'hello ying of the mountains '"
      ]
     },
     "execution_count": 76,
     "metadata": {},
     "output_type": "execute_result"
    }
   ],
   "source": [
    "# Maybe the most important function for Allison's class\n",
    "# note the import here!\n",
    "\n",
    "import random\n",
    "\n",
    "random.choice([\"forrest\", \"mountains\", \"seas\"])\n",
    "\n",
    "# can we define a function for it?\n",
    "\n",
    "def sayoftherandom():\n",
    "    place = random.choice([\"forrest\", \"mountains\", \"seas\"])\n",
    "    return sayofthe(place)\n",
    "\n",
    "sayhello(\"ying\") + sayoftherandom()\n"
   ]
  },
  {
   "cell_type": "code",
   "execution_count": null,
   "metadata": {},
   "outputs": [],
   "source": []
  },
  {
   "cell_type": "code",
   "execution_count": null,
   "metadata": {},
   "outputs": [],
   "source": []
  }
 ],
 "metadata": {
  "kernelspec": {
   "display_name": "Python 3",
   "language": "python",
   "name": "python3"
  },
  "language_info": {
   "codemirror_mode": {
    "name": "ipython",
    "version": 3
   },
   "file_extension": ".py",
   "mimetype": "text/x-python",
   "name": "python",
   "nbconvert_exporter": "python",
   "pygments_lexer": "ipython3",
   "version": "3.6.5"
  }
 },
 "nbformat": 4,
 "nbformat_minor": 2
}
