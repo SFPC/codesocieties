{
 "cells": [
  {
   "cell_type": "code",
   "execution_count": 1,
   "metadata": {},
   "outputs": [
    {
     "data": {
      "text/plain": [
       "True"
      ]
     },
     "execution_count": 1,
     "metadata": {},
     "output_type": "execute_result"
    }
   ],
   "source": [
    "# Last week! We talked about all the different types of objects in Python\n",
    "\n",
    "1\n",
    "\"\"\n",
    "None\n",
    "[]\n",
    "{}\n",
    "True"
   ]
  },
  {
   "cell_type": "code",
   "execution_count": null,
   "metadata": {},
   "outputs": [],
   "source": [
    "# functions\n",
    "\n",
    "# to define a function\n",
    "\n",
    "def send_a_message():\n",
    "    # indentation is important, helps us to read a mesage"
   ]
  },
  {
   "cell_type": "code",
   "execution_count": 3,
   "metadata": {},
   "outputs": [],
   "source": [
    "# How can we combine them to create something interesting?\n",
    "\n",
    "# if <expression>:\n",
    "x = 1\n",
    "\n",
    "if x < 1:\n",
    "    # again, indentation is important\n",
    "    print()\n",
    "    \n",
    "\n",
    "    "
   ]
  },
  {
   "cell_type": "code",
   "execution_count": 14,
   "metadata": {},
   "outputs": [],
   "source": [
    "# python has many nice functions on strings that can be used\n",
    "y = \"ying\"\n",
    "if y.startswith(\"g\"):\n",
    "    print(\"yes, that's true\")"
   ]
  },
  {
   "cell_type": "code",
   "execution_count": 13,
   "metadata": {},
   "outputs": [
    {
     "name": "stdout",
     "output_type": "stream",
     "text": [
      "no, it's false\n"
     ]
    }
   ],
   "source": [
    "# if has a counterpart, else\n",
    "y = \"ying\"\n",
    "if y.startswith(\"g\"):\n",
    "    print(\"yes, that's true\")\n",
    "elif y.endswith(\"g\"): \n",
    "    print(\"no, it's false\")\n",
    "else: # careful, indentation must be on the same line\n",
    "    print(\"no, it's false\")\n",
    "    "
   ]
  },
  {
   "cell_type": "code",
   "execution_count": 32,
   "metadata": {},
   "outputs": [
    {
     "data": {
      "text/plain": [
       "[('swim', 'NN')]"
      ]
     },
     "execution_count": 32,
     "metadata": {},
     "output_type": "execute_result"
    }
   ],
   "source": [
    "import nltk as nltk\n",
    "tokens = nltk.word_tokenize(\"sfpc is a place where we can learn\")\n",
    "tagged = nltk.pos_tag([\"swim\"])\n",
    "tagged"
   ]
  },
  {
   "cell_type": "code",
   "execution_count": 25,
   "metadata": {},
   "outputs": [
    {
     "name": "stdout",
     "output_type": "stream",
     "text": [
      "1\n",
      "2\n",
      "3\n",
      "h\n",
      "e\n",
      "l\n",
      "l\n",
      "o\n",
      "3\n",
      "4\n"
     ]
    }
   ],
   "source": [
    "# how can we count all of nn tags in this list?\n",
    "\n",
    "#enter iteration:\n",
    "\n",
    "# also called loops, for loops, while loops\n",
    "\n",
    "numberlist = [1,2,3]\n",
    "\n",
    "# for <placeholder> in <expression-that-produces-sequence>:\n",
    "\n",
    "for x in numberlist:\n",
    "    print(x)\n",
    "\n",
    "# what is an epression that produces a sequence?\n",
    "for x in \"hello\":\n",
    "    print(x)\n",
    "\n",
    "# do something 5 times\n",
    "for x in range(5):\n",
    "    print(x)\n",
    "\n"
   ]
  },
  {
   "cell_type": "code",
   "execution_count": 35,
   "metadata": {},
   "outputs": [
    {
     "data": {
      "text/plain": [
       "[('sfpc', 'NN'),\n",
       " ('is', 'VBZ'),\n",
       " ('a', 'DT'),\n",
       " ('place', 'NN'),\n",
       " ('where', 'WRB'),\n",
       " ('we', 'PRP'),\n",
       " ('can', 'MD'),\n",
       " ('learn', 'VB')]"
      ]
     },
     "execution_count": 35,
     "metadata": {},
     "output_type": "execute_result"
    }
   ],
   "source": [
    "tokens = nltk.word_tokenize(\"sfpc is a place where we can learn\")\n",
    "tagged = nltk.pos_tag(tokens)\n",
    "tagged"
   ]
  },
  {
   "cell_type": "code",
   "execution_count": 36,
   "metadata": {},
   "outputs": [
    {
     "name": "stdout",
     "output_type": "stream",
     "text": [
      "('sfpc', 'NN')\n",
      "('is', 'VBZ')\n",
      "('a', 'DT')\n",
      "('place', 'NN')\n",
      "('where', 'WRB')\n",
      "('we', 'PRP')\n",
      "('can', 'MD')\n",
      "('learn', 'VB')\n"
     ]
    },
    {
     "data": {
      "text/plain": [
       "2"
      ]
     },
     "execution_count": 36,
     "metadata": {},
     "output_type": "execute_result"
    }
   ],
   "source": [
    "number_of_nouns = 0\n",
    "for tag in tagged:\n",
    "    print(tag)\n",
    "    if tag[1] == 'NN':\n",
    "        number_of_nouns += 1\n",
    "        \n",
    "number_of_nouns"
   ]
  },
  {
   "cell_type": "code",
   "execution_count": null,
   "metadata": {},
   "outputs": [],
   "source": []
  }
 ],
 "metadata": {
  "kernelspec": {
   "display_name": "Python 3",
   "language": "python",
   "name": "python3"
  },
  "language_info": {
   "codemirror_mode": {
    "name": "ipython",
    "version": 3
   },
   "file_extension": ".py",
   "mimetype": "text/x-python",
   "name": "python",
   "nbconvert_exporter": "python",
   "pygments_lexer": "ipython3",
   "version": "3.6.5"
  }
 },
 "nbformat": 4,
 "nbformat_minor": 2
}
